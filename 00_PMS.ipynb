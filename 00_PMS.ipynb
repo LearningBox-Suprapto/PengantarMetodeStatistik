{
 "cells": [
  {
   "cell_type": "markdown",
   "metadata": {},
   "source": [
    "# Pengantar Analisis Data Menggunakan Statistik\n",
    "**Compiled by:** suprapto van plaosan"
   ]
  },
  {
   "cell_type": "markdown",
   "metadata": {},
   "source": [
    "<table align=\"left\">\n",
    "  <td>\n",
    "    <a target=\"_blank\" href=\"https://colab.research.google.com/github/LearningBox-Suprapto/PengantarMetodeStatistik/blob/master/00_PMS.ipynb\"><img src=\"https://www.tensorflow.org/images/colab_logo_32px.png\" />Run in Google Colab</a>\n",
    "  </td>\n",
    "</table>"
   ]
  },
  {
   "cell_type": "markdown",
   "metadata": {},
   "source": [
    "## Pengantar Kuliah\n",
    "### Materi Kuliah\n",
    "    \n",
    "https://github.com/LearningBox-Suprapto/PengantarMetodeStatistik\n",
    "    \n",
    "### Sistem Evaluasi:\n",
    "    - Tugas 1 (20)\n",
    "    - Tugas 2 (20)\n",
    "    - ETS (30)\n",
    "    - EAS (30)\n",
    "    \n",
    "### Literatur\n",
    "\n",
    "<img src = 'https://images-na.ssl-images-amazon.com/images/I/41w6BAMUQlL._SX387_BO1,204,203,200_.jpg'>"
   ]
  },
  {
   "cell_type": "markdown",
   "metadata": {},
   "source": [
    "<img src='https://cf.shopee.co.id/file/529dd48cf8dad68a34cd671e87823196' width=600>"
   ]
  },
  {
   "cell_type": "markdown",
   "metadata": {},
   "source": [
    "# Pertemuan 2\n",
    "## Learning Outcome\n",
    "- Sampel vs Populasi\n",
    "- Teknik Sampling:\n",
    "    - RS\n",
    "    - RBS"
   ]
  },
  {
   "cell_type": "markdown",
   "metadata": {},
   "source": [
    "# Pertemuan 3\n",
    "\n",
    "## Learning Outcome\n",
    "- Mehasiswa memahami cara menghitung \n",
    "    - rata-rata\n",
    "    - median\n",
    "    - modus\n",
    "    - deviasi standar\n",
    "    - Q1, Q2, Q3, IQR"
   ]
  },
  {
   "cell_type": "markdown",
   "metadata": {},
   "source": [
    "# Pertemuan 4\n"
   ]
  },
  {
   "cell_type": "markdown",
   "metadata": {},
   "source": [
    "## Learning Outcome\n",
    "- Karakter Data\n",
    "    - Data Kategori, \n",
    "    - Ordinal, \n",
    "    - Dikotomi, \n",
    "    - Kontinu"
   ]
  },
  {
   "cell_type": "markdown",
   "metadata": {},
   "source": [
    "# Pertemuan 5\n"
   ]
  },
  {
   "cell_type": "markdown",
   "metadata": {},
   "source": [
    "## Learning Outcome\n",
    "- Statistik Deskriptif \n",
    "    - Data Kategori, Ordinal, Dikotomi, Kontinu\n",
    "    - Histogram\n",
    "    - Boxplot\n",
    "    - Regresi"
   ]
  },
  {
   "cell_type": "markdown",
   "metadata": {},
   "source": [
    "# Pertemuan 6"
   ]
  },
  {
   "cell_type": "markdown",
   "metadata": {},
   "source": [
    "## Learning Outcome\n",
    "- Membandingkan data \n",
    "    - Uji t\n",
    "    - Uji F\n",
    "    - One Way Anova/Anova Single Factor \n",
    "    - Two Way Anova "
   ]
  },
  {
   "cell_type": "markdown",
   "metadata": {},
   "source": [
    "# Pertemuan 7"
   ]
  },
  {
   "cell_type": "markdown",
   "metadata": {},
   "source": [
    "## Learning Outcome\n",
    "- Regresi Linier \n",
    "    - r2\n",
    "    - SE\n",
    "    - SSE \n",
    "    - MSE\n",
    "    - RMSE\n",
    "    - Karakter kurva regresi: Kurtosis, Skewnwss, Jack-Berra"
   ]
  },
  {
   "cell_type": "markdown",
   "metadata": {},
   "source": [
    "# Pertemuan 8\n",
    "\n",
    "## Evaluasi Tengah Semester"
   ]
  },
  {
   "cell_type": "markdown",
   "metadata": {},
   "source": [
    "# Pertemuan 9"
   ]
  },
  {
   "cell_type": "markdown",
   "metadata": {},
   "source": [
    "## Learning Outcome\n",
    "- Distribusi Normal \n",
    "    - Uji KS\n",
    "    - Uji AD\n",
    "    - Histogram \n",
    "    - Boxplot "
   ]
  },
  {
   "cell_type": "markdown",
   "metadata": {},
   "source": [
    "# Pertemuan 10"
   ]
  },
  {
   "cell_type": "markdown",
   "metadata": {},
   "source": [
    "## Learning Outcome\n",
    "- Klasterisasi Data \n",
    "    - PCA\n",
    "    - KMeans Clustering"
   ]
  },
  {
   "cell_type": "markdown",
   "metadata": {},
   "source": [
    "# Pertemuan 11"
   ]
  },
  {
   "cell_type": "markdown",
   "metadata": {},
   "source": [
    "## Learning Outcome\n",
    "- Desain Experimental \n",
    "    - FFD\n",
    "    - PFD"
   ]
  },
  {
   "cell_type": "markdown",
   "metadata": {},
   "source": [
    "# Pertemuan 12-13"
   ]
  },
  {
   "cell_type": "markdown",
   "metadata": {},
   "source": [
    "## Learning Outcome\n",
    "- Desain Experimental \n",
    "    - RSM\n",
    "    - BBD"
   ]
  },
  {
   "cell_type": "markdown",
   "metadata": {},
   "source": [
    "# Pertemuan 14-15"
   ]
  },
  {
   "cell_type": "markdown",
   "metadata": {},
   "source": [
    "## Learning Outcome\n",
    "- Statistik untuk Pengendalian Proses  \n",
    "    - Control Chart\n",
    "    - Pareto Chart"
   ]
  },
  {
   "cell_type": "markdown",
   "metadata": {},
   "source": [
    "# Pertemuan 16\n",
    "\n",
    "## Evaluasi Akhir Semester"
   ]
  }
 ],
 "metadata": {
  "accelerator": "GPU",
  "cite2c": {
   "citations": {
    "7312403/C3I2SSFD": {
     "URL": "https://dictionary.cambridge.org/dictionary/english/statistics",
     "accessed": {
      "day": 2,
      "month": 8,
      "year": 2020
     },
     "id": "7312403/C3I2SSFD",
     "title": "STATISTICS | meaning in the Cambridge English Dictionary",
     "type": "webpage"
    },
    "7312403/RE7GVP8M": {
     "URL": "https://asq.org/quality-resources/root-cause-analysis",
     "accessed": {
      "day": 2,
      "month": 8,
      "year": 2020
     },
     "id": "7312403/RE7GVP8M",
     "title": "What is Root Cause Analysis (RCA)? | ASQ",
     "type": "webpage"
    },
    "7312403/YCBH39TS": {
     "URL": "https://plato.stanford.edu/archives/spr2017/entries/statistics/",
     "abstract": "Statistics investigates and develops specific methods forevaluating hypotheses in the light of empirical facts. A method iscalled statistical, and thus the subject of study in statistics, if itrelates facts and hypotheses of a particular kind: the empirical factsmust be codified and structured into data sets, and the hypothesesmust be formulated in terms of probability distributions over possibledata sets. The philosophy of statistics concerns the foundations andthe proper interpretation of statistical methods, their input, andtheir results.  Since statistics is relied upon in almost allempirical scientific research, serving to support and communicatescientific findings, the philosophy of statistics is of key importanceto the philosophy of science. It has an impact on the philosophicalappraisal of scientific method, and on the debate over the epistemicand ontological status of scientific theory., The philosophy of statistics harbors a large variety of topics anddebates. Central to these is the  problem of induction,which concerns the justification of inferences or procedures thatextrapolate from data to predictions and general facts. Furtherdebates concern the interpretation of the probabilitiesthat are used in statistics, and the wider theoretical frameworkthat may ground and justify the correctness of statistical methods. Ageneral introduction to these themes is given in Section 1 and Section 2.  Section 3 and  Section 4 provide an account of howthese themes play out in the two major theories of statistical method,classical and Bayesian statistics respectively. Section 5directs attention to the notion of a statistical model, covering modelselection and simplicity, but also discussing statistical techniquesthat do not rely on statistical models.  Section 6 brieflymentions relations between the philosophy of statistics and severalother themes from the philosophy of science, including  confirmation theory, evidence,  causality, measurement, and scientificmethodology in general.",
     "accessed": {
      "day": 2,
      "month": 8,
      "year": 2020
     },
     "author": [
      {
       "family": "Romeijn",
       "given": "Jan-Willem"
      }
     ],
     "container-title": "The Stanford Encyclopedia of Philosophy",
     "edition": "Spring 2017",
     "editor": [
      {
       "family": "Zalta",
       "given": "Edward N."
      }
     ],
     "id": "7312403/YCBH39TS",
     "issued": {
      "year": 2017
     },
     "publisher": "Metaphysics Research Lab, Stanford University",
     "title": "Philosophy of Statistics",
     "type": "chapter"
    }
   }
  },
  "colab": {
   "collapsed_sections": [],
   "name": "Kemometrik.ipynb",
   "provenance": []
  },
  "kernelspec": {
   "display_name": "Python 3",
   "language": "python",
   "name": "python3"
  },
  "language_info": {
   "codemirror_mode": {
    "name": "ipython",
    "version": 3
   },
   "file_extension": ".py",
   "mimetype": "text/x-python",
   "name": "python",
   "nbconvert_exporter": "python",
   "pygments_lexer": "ipython3",
   "version": "3.8.5"
  },
  "latex_envs": {
   "LaTeX_envs_menu_present": true,
   "autoclose": false,
   "autocomplete": true,
   "bibliofile": "biblio.bib",
   "cite_by": "apalike",
   "current_citInitial": 1,
   "eqLabelWithNumbers": true,
   "eqNumInitial": 1,
   "hotkeys": {
    "equation": "Ctrl-E",
    "itemize": "Ctrl-I"
   },
   "labels_anchors": false,
   "latex_user_defs": false,
   "report_style_numbering": false,
   "user_envs_cfg": false
  },
  "nbTranslate": {
   "displayLangs": [
    "ina",
    "en"
   ],
   "hotkey": "alt-t",
   "langInMainMenu": true,
   "sourceLang": "en",
   "targetLang": "ina",
   "useGoogleTranslate": true
  },
  "toc": {
   "base_numbering": 1,
   "nav_menu": {},
   "number_sections": true,
   "sideBar": true,
   "skip_h1_title": true,
   "title_cell": "Table of Contents",
   "title_sidebar": "Contents",
   "toc_cell": false,
   "toc_position": {
    "height": "calc(100% - 180px)",
    "left": "10px",
    "top": "150px",
    "width": "258.797px"
   },
   "toc_section_display": true,
   "toc_window_display": true
  },
  "toc-autonumbering": false,
  "toc-showcode": false,
  "toc-showtags": false
 },
 "nbformat": 4,
 "nbformat_minor": 4
}
